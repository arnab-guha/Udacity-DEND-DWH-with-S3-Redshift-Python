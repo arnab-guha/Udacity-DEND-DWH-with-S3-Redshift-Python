{
 "cells": [
  {
   "cell_type": "code",
   "execution_count": 98,
   "metadata": {},
   "outputs": [],
   "source": [
    "import psycopg2 as ps\n",
    "import configparser\n",
    "import pandas as pd\n",
    "import matplotlib"
   ]
  },
  {
   "cell_type": "code",
   "execution_count": 4,
   "metadata": {},
   "outputs": [],
   "source": [
    "config = configparser.ConfigParser()\n",
    "config.read('dwh.cfg')\n",
    "con = ps.connect(\"host={} dbname={} user={} password={} port={}\".format(*config['CLUSTER'].values()))"
   ]
  },
  {
   "cell_type": "code",
   "execution_count": 6,
   "metadata": {},
   "outputs": [],
   "source": [
    "cur = con.cursor()"
   ]
  },
  {
   "cell_type": "markdown",
   "metadata": {},
   "source": [
    "### Snapshot of the Fact and Dimension Tables"
   ]
  },
  {
   "cell_type": "code",
   "execution_count": 15,
   "metadata": {},
   "outputs": [],
   "source": [
    "songplays = \"select * from songplays limit 5\"\n",
    "user = \"select * from users limit 5\"\n",
    "songs = \"select * from songs limit 5\"\n",
    "time = \"select * from time limit 5\"\n",
    "artists = \"select * from artists limit 5\""
   ]
  },
  {
   "cell_type": "code",
   "execution_count": 16,
   "metadata": {},
   "outputs": [],
   "source": [
    "songplays_df = pd.read_sql_query(songplays, con)\n",
    "user_df = pd.read_sql_query(user, con)\n",
    "songs_df = pd.read_sql_query(songs, con)\n",
    "time_df = pd.read_sql_query(time, con)\n",
    "artists_df = pd.read_sql_query(artists, con)"
   ]
  },
  {
   "cell_type": "markdown",
   "metadata": {},
   "source": [
    "#### Songplays Table"
   ]
  },
  {
   "cell_type": "code",
   "execution_count": 17,
   "metadata": {},
   "outputs": [
    {
     "data": {
      "text/html": [
       "<div>\n",
       "<style scoped>\n",
       "    .dataframe tbody tr th:only-of-type {\n",
       "        vertical-align: middle;\n",
       "    }\n",
       "\n",
       "    .dataframe tbody tr th {\n",
       "        vertical-align: top;\n",
       "    }\n",
       "\n",
       "    .dataframe thead th {\n",
       "        text-align: right;\n",
       "    }\n",
       "</style>\n",
       "<table border=\"1\" class=\"dataframe\">\n",
       "  <thead>\n",
       "    <tr style=\"text-align: right;\">\n",
       "      <th></th>\n",
       "      <th>songplay_id</th>\n",
       "      <th>start_time</th>\n",
       "      <th>user_id</th>\n",
       "      <th>level</th>\n",
       "      <th>song_id</th>\n",
       "      <th>artist_id</th>\n",
       "      <th>session_id</th>\n",
       "      <th>location</th>\n",
       "      <th>user_agent</th>\n",
       "    </tr>\n",
       "  </thead>\n",
       "  <tbody>\n",
       "    <tr>\n",
       "      <th>0</th>\n",
       "      <td>57</td>\n",
       "      <td>2018-11-28 17:39:27</td>\n",
       "      <td>49</td>\n",
       "      <td>paid</td>\n",
       "      <td>SODKJWI12A8151BD74</td>\n",
       "      <td>ARM0P6Z1187FB4D466</td>\n",
       "      <td>1023</td>\n",
       "      <td>San Francisco-Oakland-Hayward, CA</td>\n",
       "      <td>Mozilla/5.0 (Windows NT 5.1; rv:31.0) Gecko/20...</td>\n",
       "    </tr>\n",
       "    <tr>\n",
       "      <th>1</th>\n",
       "      <td>121</td>\n",
       "      <td>2018-11-13 08:30:01</td>\n",
       "      <td>25</td>\n",
       "      <td>paid</td>\n",
       "      <td>SODWLOQ12AB017EC73</td>\n",
       "      <td>AR4SRB61187FB5538F</td>\n",
       "      <td>442</td>\n",
       "      <td>Marinette, WI-MI</td>\n",
       "      <td>\"Mozilla/5.0 (Windows NT 6.3; WOW64) AppleWebK...</td>\n",
       "    </tr>\n",
       "    <tr>\n",
       "      <th>2</th>\n",
       "      <td>185</td>\n",
       "      <td>2018-11-05 17:31:40</td>\n",
       "      <td>35</td>\n",
       "      <td>free</td>\n",
       "      <td>SONTFNG12A8C13FF69</td>\n",
       "      <td>AR52EZT1187B9900BF</td>\n",
       "      <td>171</td>\n",
       "      <td>St. Louis, MO-IL</td>\n",
       "      <td>\"Mozilla/5.0 (X11; Linux x86_64) AppleWebKit/5...</td>\n",
       "    </tr>\n",
       "    <tr>\n",
       "      <th>3</th>\n",
       "      <td>249</td>\n",
       "      <td>2018-11-05 10:18:12</td>\n",
       "      <td>42</td>\n",
       "      <td>paid</td>\n",
       "      <td>SOBONKR12A58A7A7E0</td>\n",
       "      <td>AR5E44Z1187B9A1D74</td>\n",
       "      <td>129</td>\n",
       "      <td>New York-Newark-Jersey City, NY-NJ-PA</td>\n",
       "      <td>\"Mozilla/5.0 (Windows NT 6.3; WOW64) AppleWebK...</td>\n",
       "    </tr>\n",
       "    <tr>\n",
       "      <th>4</th>\n",
       "      <td>313</td>\n",
       "      <td>2018-11-15 14:42:58</td>\n",
       "      <td>97</td>\n",
       "      <td>paid</td>\n",
       "      <td>SOYTFSY12A6D4FD84E</td>\n",
       "      <td>ARRFSMX1187FB39B03</td>\n",
       "      <td>605</td>\n",
       "      <td>Lansing-East Lansing, MI</td>\n",
       "      <td>\"Mozilla/5.0 (X11; Linux x86_64) AppleWebKit/5...</td>\n",
       "    </tr>\n",
       "  </tbody>\n",
       "</table>\n",
       "</div>"
      ],
      "text/plain": [
       "   songplay_id          start_time  user_id level             song_id  \\\n",
       "0           57 2018-11-28 17:39:27       49  paid  SODKJWI12A8151BD74   \n",
       "1          121 2018-11-13 08:30:01       25  paid  SODWLOQ12AB017EC73   \n",
       "2          185 2018-11-05 17:31:40       35  free  SONTFNG12A8C13FF69   \n",
       "3          249 2018-11-05 10:18:12       42  paid  SOBONKR12A58A7A7E0   \n",
       "4          313 2018-11-15 14:42:58       97  paid  SOYTFSY12A6D4FD84E   \n",
       "\n",
       "            artist_id  session_id                               location  \\\n",
       "0  ARM0P6Z1187FB4D466        1023      San Francisco-Oakland-Hayward, CA   \n",
       "1  AR4SRB61187FB5538F         442                       Marinette, WI-MI   \n",
       "2  AR52EZT1187B9900BF         171                       St. Louis, MO-IL   \n",
       "3  AR5E44Z1187B9A1D74         129  New York-Newark-Jersey City, NY-NJ-PA   \n",
       "4  ARRFSMX1187FB39B03         605               Lansing-East Lansing, MI   \n",
       "\n",
       "                                          user_agent  \n",
       "0  Mozilla/5.0 (Windows NT 5.1; rv:31.0) Gecko/20...  \n",
       "1  \"Mozilla/5.0 (Windows NT 6.3; WOW64) AppleWebK...  \n",
       "2  \"Mozilla/5.0 (X11; Linux x86_64) AppleWebKit/5...  \n",
       "3  \"Mozilla/5.0 (Windows NT 6.3; WOW64) AppleWebK...  \n",
       "4  \"Mozilla/5.0 (X11; Linux x86_64) AppleWebKit/5...  "
      ]
     },
     "execution_count": 17,
     "metadata": {},
     "output_type": "execute_result"
    }
   ],
   "source": [
    "songplays_df"
   ]
  },
  {
   "cell_type": "markdown",
   "metadata": {},
   "source": [
    "#### Users Table"
   ]
  },
  {
   "cell_type": "code",
   "execution_count": 19,
   "metadata": {},
   "outputs": [
    {
     "data": {
      "text/html": [
       "<div>\n",
       "<style scoped>\n",
       "    .dataframe tbody tr th:only-of-type {\n",
       "        vertical-align: middle;\n",
       "    }\n",
       "\n",
       "    .dataframe tbody tr th {\n",
       "        vertical-align: top;\n",
       "    }\n",
       "\n",
       "    .dataframe thead th {\n",
       "        text-align: right;\n",
       "    }\n",
       "</style>\n",
       "<table border=\"1\" class=\"dataframe\">\n",
       "  <thead>\n",
       "    <tr style=\"text-align: right;\">\n",
       "      <th></th>\n",
       "      <th>user_id</th>\n",
       "      <th>first_name</th>\n",
       "      <th>last_name</th>\n",
       "      <th>gender</th>\n",
       "      <th>level</th>\n",
       "    </tr>\n",
       "  </thead>\n",
       "  <tbody>\n",
       "    <tr>\n",
       "      <th>0</th>\n",
       "      <td>52</td>\n",
       "      <td>Theodore</td>\n",
       "      <td>Smith</td>\n",
       "      <td>M</td>\n",
       "      <td>free</td>\n",
       "    </tr>\n",
       "    <tr>\n",
       "      <th>1</th>\n",
       "      <td>99</td>\n",
       "      <td>Ann</td>\n",
       "      <td>Banks</td>\n",
       "      <td>F</td>\n",
       "      <td>free</td>\n",
       "    </tr>\n",
       "    <tr>\n",
       "      <th>2</th>\n",
       "      <td>43</td>\n",
       "      <td>Jahiem</td>\n",
       "      <td>Miles</td>\n",
       "      <td>M</td>\n",
       "      <td>free</td>\n",
       "    </tr>\n",
       "    <tr>\n",
       "      <th>3</th>\n",
       "      <td>6</td>\n",
       "      <td>Cecilia</td>\n",
       "      <td>Owens</td>\n",
       "      <td>F</td>\n",
       "      <td>free</td>\n",
       "    </tr>\n",
       "    <tr>\n",
       "      <th>4</th>\n",
       "      <td>25</td>\n",
       "      <td>Jayden</td>\n",
       "      <td>Graves</td>\n",
       "      <td>M</td>\n",
       "      <td>paid</td>\n",
       "    </tr>\n",
       "  </tbody>\n",
       "</table>\n",
       "</div>"
      ],
      "text/plain": [
       "   user_id first_name last_name gender level\n",
       "0       52   Theodore     Smith      M  free\n",
       "1       99        Ann     Banks      F  free\n",
       "2       43     Jahiem     Miles      M  free\n",
       "3        6    Cecilia     Owens      F  free\n",
       "4       25     Jayden    Graves      M  paid"
      ]
     },
     "execution_count": 19,
     "metadata": {},
     "output_type": "execute_result"
    }
   ],
   "source": [
    "user_df"
   ]
  },
  {
   "cell_type": "markdown",
   "metadata": {},
   "source": [
    "#### Songs Table"
   ]
  },
  {
   "cell_type": "code",
   "execution_count": 20,
   "metadata": {},
   "outputs": [
    {
     "data": {
      "text/html": [
       "<div>\n",
       "<style scoped>\n",
       "    .dataframe tbody tr th:only-of-type {\n",
       "        vertical-align: middle;\n",
       "    }\n",
       "\n",
       "    .dataframe tbody tr th {\n",
       "        vertical-align: top;\n",
       "    }\n",
       "\n",
       "    .dataframe thead th {\n",
       "        text-align: right;\n",
       "    }\n",
       "</style>\n",
       "<table border=\"1\" class=\"dataframe\">\n",
       "  <thead>\n",
       "    <tr style=\"text-align: right;\">\n",
       "      <th></th>\n",
       "      <th>song_id</th>\n",
       "      <th>title</th>\n",
       "      <th>artist_id</th>\n",
       "      <th>year</th>\n",
       "      <th>duration</th>\n",
       "    </tr>\n",
       "  </thead>\n",
       "  <tbody>\n",
       "    <tr>\n",
       "      <th>0</th>\n",
       "      <td>SOUOLYL12A6D4FBD4B</td>\n",
       "      <td>A Favor</td>\n",
       "      <td>ARAZP5N1187B9B4D5D</td>\n",
       "      <td>2004</td>\n",
       "      <td>359.33994</td>\n",
       "    </tr>\n",
       "    <tr>\n",
       "      <th>1</th>\n",
       "      <td>SOAMCTE12AC3DF6134</td>\n",
       "      <td>Go64</td>\n",
       "      <td>AR2AHH11187B99D6D0</td>\n",
       "      <td>2006</td>\n",
       "      <td>279.30077</td>\n",
       "    </tr>\n",
       "    <tr>\n",
       "      <th>2</th>\n",
       "      <td>SOXGBUO12AC468B9AF</td>\n",
       "      <td>Joyful Sound</td>\n",
       "      <td>ARWTFGY1187B992CBA</td>\n",
       "      <td>2001</td>\n",
       "      <td>388.59710</td>\n",
       "    </tr>\n",
       "    <tr>\n",
       "      <th>3</th>\n",
       "      <td>SOWYXJC12A8C13B81E</td>\n",
       "      <td>Verde Bosque</td>\n",
       "      <td>ARU3YYC1187FB43FEE</td>\n",
       "      <td>1994</td>\n",
       "      <td>355.29097</td>\n",
       "    </tr>\n",
       "    <tr>\n",
       "      <th>4</th>\n",
       "      <td>SOPHMCZ12A81C21C54</td>\n",
       "      <td>Selling Jolson A Baseball Team</td>\n",
       "      <td>AR7QAHN1187FB35F8B</td>\n",
       "      <td>0</td>\n",
       "      <td>586.70974</td>\n",
       "    </tr>\n",
       "  </tbody>\n",
       "</table>\n",
       "</div>"
      ],
      "text/plain": [
       "              song_id                           title           artist_id  \\\n",
       "0  SOUOLYL12A6D4FBD4B                         A Favor  ARAZP5N1187B9B4D5D   \n",
       "1  SOAMCTE12AC3DF6134                            Go64  AR2AHH11187B99D6D0   \n",
       "2  SOXGBUO12AC468B9AF                    Joyful Sound  ARWTFGY1187B992CBA   \n",
       "3  SOWYXJC12A8C13B81E                    Verde Bosque  ARU3YYC1187FB43FEE   \n",
       "4  SOPHMCZ12A81C21C54  Selling Jolson A Baseball Team  AR7QAHN1187FB35F8B   \n",
       "\n",
       "   year   duration  \n",
       "0  2004  359.33994  \n",
       "1  2006  279.30077  \n",
       "2  2001  388.59710  \n",
       "3  1994  355.29097  \n",
       "4     0  586.70974  "
      ]
     },
     "execution_count": 20,
     "metadata": {},
     "output_type": "execute_result"
    }
   ],
   "source": [
    "songs_df"
   ]
  },
  {
   "cell_type": "markdown",
   "metadata": {},
   "source": [
    "#### Time Table"
   ]
  },
  {
   "cell_type": "code",
   "execution_count": 21,
   "metadata": {},
   "outputs": [
    {
     "data": {
      "text/html": [
       "<div>\n",
       "<style scoped>\n",
       "    .dataframe tbody tr th:only-of-type {\n",
       "        vertical-align: middle;\n",
       "    }\n",
       "\n",
       "    .dataframe tbody tr th {\n",
       "        vertical-align: top;\n",
       "    }\n",
       "\n",
       "    .dataframe thead th {\n",
       "        text-align: right;\n",
       "    }\n",
       "</style>\n",
       "<table border=\"1\" class=\"dataframe\">\n",
       "  <thead>\n",
       "    <tr style=\"text-align: right;\">\n",
       "      <th></th>\n",
       "      <th>start_time</th>\n",
       "      <th>hour</th>\n",
       "      <th>day</th>\n",
       "      <th>week</th>\n",
       "      <th>month</th>\n",
       "      <th>year</th>\n",
       "      <th>weekday</th>\n",
       "    </tr>\n",
       "  </thead>\n",
       "  <tbody>\n",
       "    <tr>\n",
       "      <th>0</th>\n",
       "      <td>2018-11-04 00:15:55</td>\n",
       "      <td>0</td>\n",
       "      <td>4</td>\n",
       "      <td>44</td>\n",
       "      <td>11</td>\n",
       "      <td>2018</td>\n",
       "      <td>SUN</td>\n",
       "    </tr>\n",
       "    <tr>\n",
       "      <th>1</th>\n",
       "      <td>2018-11-04 00:50:03</td>\n",
       "      <td>0</td>\n",
       "      <td>4</td>\n",
       "      <td>44</td>\n",
       "      <td>11</td>\n",
       "      <td>2018</td>\n",
       "      <td>SUN</td>\n",
       "    </tr>\n",
       "    <tr>\n",
       "      <th>2</th>\n",
       "      <td>2018-11-04 02:37:13</td>\n",
       "      <td>2</td>\n",
       "      <td>4</td>\n",
       "      <td>44</td>\n",
       "      <td>11</td>\n",
       "      <td>2018</td>\n",
       "      <td>SUN</td>\n",
       "    </tr>\n",
       "    <tr>\n",
       "      <th>3</th>\n",
       "      <td>2018-11-04 02:54:52</td>\n",
       "      <td>2</td>\n",
       "      <td>4</td>\n",
       "      <td>44</td>\n",
       "      <td>11</td>\n",
       "      <td>2018</td>\n",
       "      <td>SUN</td>\n",
       "    </tr>\n",
       "    <tr>\n",
       "      <th>4</th>\n",
       "      <td>2018-11-04 02:58:57</td>\n",
       "      <td>2</td>\n",
       "      <td>4</td>\n",
       "      <td>44</td>\n",
       "      <td>11</td>\n",
       "      <td>2018</td>\n",
       "      <td>SUN</td>\n",
       "    </tr>\n",
       "  </tbody>\n",
       "</table>\n",
       "</div>"
      ],
      "text/plain": [
       "           start_time  hour  day  week  month  year weekday\n",
       "0 2018-11-04 00:15:55     0    4    44     11  2018     SUN\n",
       "1 2018-11-04 00:50:03     0    4    44     11  2018     SUN\n",
       "2 2018-11-04 02:37:13     2    4    44     11  2018     SUN\n",
       "3 2018-11-04 02:54:52     2    4    44     11  2018     SUN\n",
       "4 2018-11-04 02:58:57     2    4    44     11  2018     SUN"
      ]
     },
     "execution_count": 21,
     "metadata": {},
     "output_type": "execute_result"
    }
   ],
   "source": [
    "time_df"
   ]
  },
  {
   "cell_type": "markdown",
   "metadata": {},
   "source": [
    "#### Artists Table"
   ]
  },
  {
   "cell_type": "code",
   "execution_count": 23,
   "metadata": {},
   "outputs": [
    {
     "data": {
      "text/html": [
       "<div>\n",
       "<style scoped>\n",
       "    .dataframe tbody tr th:only-of-type {\n",
       "        vertical-align: middle;\n",
       "    }\n",
       "\n",
       "    .dataframe tbody tr th {\n",
       "        vertical-align: top;\n",
       "    }\n",
       "\n",
       "    .dataframe thead th {\n",
       "        text-align: right;\n",
       "    }\n",
       "</style>\n",
       "<table border=\"1\" class=\"dataframe\">\n",
       "  <thead>\n",
       "    <tr style=\"text-align: right;\">\n",
       "      <th></th>\n",
       "      <th>artist_id</th>\n",
       "      <th>name</th>\n",
       "      <th>location</th>\n",
       "      <th>latitude</th>\n",
       "      <th>longitude</th>\n",
       "    </tr>\n",
       "  </thead>\n",
       "  <tbody>\n",
       "    <tr>\n",
       "      <th>0</th>\n",
       "      <td>ARQZCW31187B9AC64C</td>\n",
       "      <td>Supervielle</td>\n",
       "      <td></td>\n",
       "      <td>NaN</td>\n",
       "      <td>NaN</td>\n",
       "    </tr>\n",
       "    <tr>\n",
       "      <th>1</th>\n",
       "      <td>ARBF7KQ1187FB455DE</td>\n",
       "      <td>Jesse Winchester</td>\n",
       "      <td>Shreveport, LA</td>\n",
       "      <td>32.51460</td>\n",
       "      <td>-93.74727</td>\n",
       "    </tr>\n",
       "    <tr>\n",
       "      <th>2</th>\n",
       "      <td>ARCPKCY1242078311A</td>\n",
       "      <td>Bostich_ Fussible</td>\n",
       "      <td></td>\n",
       "      <td>NaN</td>\n",
       "      <td>NaN</td>\n",
       "    </tr>\n",
       "    <tr>\n",
       "      <th>3</th>\n",
       "      <td>ARPBMSQ1187B98AE69</td>\n",
       "      <td>Sounds From The Ground / Tanya Tagaq Gillis</td>\n",
       "      <td>UK - England - South East</td>\n",
       "      <td>52.88356</td>\n",
       "      <td>-1.97405</td>\n",
       "    </tr>\n",
       "    <tr>\n",
       "      <th>4</th>\n",
       "      <td>ARY65231187FB46283</td>\n",
       "      <td>Starting Rock Feat. Diva Avari</td>\n",
       "      <td></td>\n",
       "      <td>NaN</td>\n",
       "      <td>NaN</td>\n",
       "    </tr>\n",
       "  </tbody>\n",
       "</table>\n",
       "</div>"
      ],
      "text/plain": [
       "            artist_id                                         name  \\\n",
       "0  ARQZCW31187B9AC64C                                  Supervielle   \n",
       "1  ARBF7KQ1187FB455DE                             Jesse Winchester   \n",
       "2  ARCPKCY1242078311A                            Bostich_ Fussible   \n",
       "3  ARPBMSQ1187B98AE69  Sounds From The Ground / Tanya Tagaq Gillis   \n",
       "4  ARY65231187FB46283               Starting Rock Feat. Diva Avari   \n",
       "\n",
       "                    location  latitude  longitude  \n",
       "0                                  NaN        NaN  \n",
       "1             Shreveport, LA  32.51460  -93.74727  \n",
       "2                                  NaN        NaN  \n",
       "3  UK - England - South East  52.88356   -1.97405  \n",
       "4                                  NaN        NaN  "
      ]
     },
     "execution_count": 23,
     "metadata": {},
     "output_type": "execute_result"
    }
   ],
   "source": [
    "artists_df"
   ]
  },
  {
   "cell_type": "markdown",
   "metadata": {},
   "source": [
    "## Analytic Queries\n",
    "##### *Run set of analytic queries on the tables to find useful information about users, artists, songs etc.*"
   ]
  },
  {
   "cell_type": "markdown",
   "metadata": {},
   "source": [
    "#### Top 5 Users"
   ]
  },
  {
   "cell_type": "code",
   "execution_count": 61,
   "metadata": {},
   "outputs": [],
   "source": [
    "top_users = \"\"\"\n",
    "                SELECT a1.user_id,a2.first_name||' '||a2.last_name Name, count(distinct start_time) No_of_Sessions\n",
    "                FROM songplays a1\n",
    "                JOIN users a2 ON a1.user_id = a2.user_id\n",
    "                GROUP BY a1.user_id,Name\n",
    "                ORDER BY No_of_Sessions DESC\n",
    "                LIMIT 5\n",
    "\"\"\""
   ]
  },
  {
   "cell_type": "code",
   "execution_count": 62,
   "metadata": {},
   "outputs": [],
   "source": [
    "top_users_df = pd.read_sql_query(top_users, con)"
   ]
  },
  {
   "cell_type": "code",
   "execution_count": 63,
   "metadata": {},
   "outputs": [
    {
     "data": {
      "text/html": [
       "<div>\n",
       "<style scoped>\n",
       "    .dataframe tbody tr th:only-of-type {\n",
       "        vertical-align: middle;\n",
       "    }\n",
       "\n",
       "    .dataframe tbody tr th {\n",
       "        vertical-align: top;\n",
       "    }\n",
       "\n",
       "    .dataframe thead th {\n",
       "        text-align: right;\n",
       "    }\n",
       "</style>\n",
       "<table border=\"1\" class=\"dataframe\">\n",
       "  <thead>\n",
       "    <tr style=\"text-align: right;\">\n",
       "      <th></th>\n",
       "      <th>user_id</th>\n",
       "      <th>name</th>\n",
       "      <th>no_of_sessions</th>\n",
       "    </tr>\n",
       "  </thead>\n",
       "  <tbody>\n",
       "    <tr>\n",
       "      <th>0</th>\n",
       "      <td>49</td>\n",
       "      <td>Chloe Cuevas</td>\n",
       "      <td>42</td>\n",
       "    </tr>\n",
       "    <tr>\n",
       "      <th>1</th>\n",
       "      <td>97</td>\n",
       "      <td>Kate Harrell</td>\n",
       "      <td>32</td>\n",
       "    </tr>\n",
       "    <tr>\n",
       "      <th>2</th>\n",
       "      <td>80</td>\n",
       "      <td>Tegan Levine</td>\n",
       "      <td>31</td>\n",
       "    </tr>\n",
       "    <tr>\n",
       "      <th>3</th>\n",
       "      <td>44</td>\n",
       "      <td>Aleena Kirby</td>\n",
       "      <td>21</td>\n",
       "    </tr>\n",
       "    <tr>\n",
       "      <th>4</th>\n",
       "      <td>73</td>\n",
       "      <td>Jacob Klein</td>\n",
       "      <td>18</td>\n",
       "    </tr>\n",
       "  </tbody>\n",
       "</table>\n",
       "</div>"
      ],
      "text/plain": [
       "   user_id          name  no_of_sessions\n",
       "0       49  Chloe Cuevas              42\n",
       "1       97  Kate Harrell              32\n",
       "2       80  Tegan Levine              31\n",
       "3       44  Aleena Kirby              21\n",
       "4       73   Jacob Klein              18"
      ]
     },
     "execution_count": 63,
     "metadata": {},
     "output_type": "execute_result"
    }
   ],
   "source": [
    "top_users_df"
   ]
  },
  {
   "cell_type": "markdown",
   "metadata": {},
   "source": [
    "#### Top 5 Songs"
   ]
  },
  {
   "cell_type": "code",
   "execution_count": 67,
   "metadata": {},
   "outputs": [],
   "source": [
    "top_songs = \"\"\"\n",
    "                SELECT \n",
    "                a1.song_id,\n",
    "                a2.title,\n",
    "                COUNT(distinct a1.user_id) No_of_User\n",
    "                FROM songplays a1\n",
    "                JOIN songs a2 ON a1.song_id = a2.song_id\n",
    "                GROUP BY a1.song_id,a2.title\n",
    "                ORDER BY No_of_User DESC\n",
    "                LIMIT 5\n",
    "\"\"\""
   ]
  },
  {
   "cell_type": "code",
   "execution_count": 68,
   "metadata": {},
   "outputs": [],
   "source": [
    "top_songs_df = pd.read_sql_query(top_songs, con)"
   ]
  },
  {
   "cell_type": "code",
   "execution_count": 69,
   "metadata": {},
   "outputs": [
    {
     "data": {
      "text/html": [
       "<div>\n",
       "<style scoped>\n",
       "    .dataframe tbody tr th:only-of-type {\n",
       "        vertical-align: middle;\n",
       "    }\n",
       "\n",
       "    .dataframe tbody tr th {\n",
       "        vertical-align: top;\n",
       "    }\n",
       "\n",
       "    .dataframe thead th {\n",
       "        text-align: right;\n",
       "    }\n",
       "</style>\n",
       "<table border=\"1\" class=\"dataframe\">\n",
       "  <thead>\n",
       "    <tr style=\"text-align: right;\">\n",
       "      <th></th>\n",
       "      <th>song_id</th>\n",
       "      <th>title</th>\n",
       "      <th>no_of_user</th>\n",
       "    </tr>\n",
       "  </thead>\n",
       "  <tbody>\n",
       "    <tr>\n",
       "      <th>0</th>\n",
       "      <td>SOBONKR12A58A7A7E0</td>\n",
       "      <td>You're The One</td>\n",
       "      <td>22</td>\n",
       "    </tr>\n",
       "    <tr>\n",
       "      <th>1</th>\n",
       "      <td>SOHTKMO12AB01843B0</td>\n",
       "      <td>Catch You Baby (Steve Pitron &amp; Max Sanna Radio...</td>\n",
       "      <td>9</td>\n",
       "    </tr>\n",
       "    <tr>\n",
       "      <th>2</th>\n",
       "      <td>SOULTKQ12AB018A183</td>\n",
       "      <td>Nothin' On You [feat. Bruno Mars] (Album Version)</td>\n",
       "      <td>7</td>\n",
       "    </tr>\n",
       "    <tr>\n",
       "      <th>3</th>\n",
       "      <td>SOUNZHU12A8AE47481</td>\n",
       "      <td>I CAN'T GET STARTED</td>\n",
       "      <td>6</td>\n",
       "    </tr>\n",
       "    <tr>\n",
       "      <th>4</th>\n",
       "      <td>SOTNHIP12AB0183131</td>\n",
       "      <td>Make Her Say</td>\n",
       "      <td>5</td>\n",
       "    </tr>\n",
       "  </tbody>\n",
       "</table>\n",
       "</div>"
      ],
      "text/plain": [
       "              song_id                                              title  \\\n",
       "0  SOBONKR12A58A7A7E0                                     You're The One   \n",
       "1  SOHTKMO12AB01843B0  Catch You Baby (Steve Pitron & Max Sanna Radio...   \n",
       "2  SOULTKQ12AB018A183  Nothin' On You [feat. Bruno Mars] (Album Version)   \n",
       "3  SOUNZHU12A8AE47481                                I CAN'T GET STARTED   \n",
       "4  SOTNHIP12AB0183131                                       Make Her Say   \n",
       "\n",
       "   no_of_user  \n",
       "0          22  \n",
       "1           9  \n",
       "2           7  \n",
       "3           6  \n",
       "4           5  "
      ]
     },
     "execution_count": 69,
     "metadata": {},
     "output_type": "execute_result"
    }
   ],
   "source": [
    "top_songs_df"
   ]
  },
  {
   "cell_type": "code",
   "execution_count": 73,
   "metadata": {},
   "outputs": [],
   "source": [
    "cur.execute(\"select distinct to_char(a1.start_time,'HH24') from songplays a1\")"
   ]
  },
  {
   "cell_type": "markdown",
   "metadata": {},
   "source": [
    "#### Activity Trend by Hour of the Day"
   ]
  },
  {
   "cell_type": "code",
   "execution_count": 87,
   "metadata": {},
   "outputs": [],
   "source": [
    "activity = \"\"\"\n",
    "                SELECT\n",
    "                TO_CHAR(a1.start_time,'HH24') Hr,\n",
    "                Count(1) Session_Count\n",
    "                FROM songplays a1\n",
    "                GROUP BY Hr\n",
    "                ORDER BY Hr\n",
    "\"\"\""
   ]
  },
  {
   "cell_type": "code",
   "execution_count": 88,
   "metadata": {},
   "outputs": [],
   "source": [
    "activity_df = pd.read_sql_query(activity, con)"
   ]
  },
  {
   "cell_type": "code",
   "execution_count": 101,
   "metadata": {},
   "outputs": [
    {
     "data": {
      "image/png": "[encoded data removed]",
      "text/plain": [
       "<matplotlib.figure.Figure at 0x7f5337969518>"
      ]
     },
     "metadata": {
      "needs_background": "light"
     },
     "output_type": "display_data"
    }
   ],
   "source": [
    "graph = activity_df.plot.bar(rot=0)"
   ]
  },
  {
   "cell_type": "markdown",
   "metadata": {},
   "source": [
    "From the above chart, its visible that evening time is the most active time when users are listening to the songs. 5PM is the most active time. "
   ]
  },
  {
   "cell_type": "code",
   "execution_count": null,
   "metadata": {},
   "outputs": [],
   "source": []
  }
 ],
 "metadata": {
  "kernelspec": {
   "display_name": "Python 3",
   "language": "python",
   "name": "python3"
  },
  "language_info": {
   "codemirror_mode": {
    "name": "ipython",
    "version": 3
   },
   "file_extension": ".py",
   "mimetype": "text/x-python",
   "name": "python",
   "nbconvert_exporter": "python",
   "pygments_lexer": "ipython3",
   "version": "3.6.3"
  }
 },
 "nbformat": 4,
 "nbformat_minor": 2
}
